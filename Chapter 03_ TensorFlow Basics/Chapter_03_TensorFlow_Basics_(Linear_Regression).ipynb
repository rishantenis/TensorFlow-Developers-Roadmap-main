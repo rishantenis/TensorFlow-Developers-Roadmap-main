{
  "nbformat": 4,
  "nbformat_minor": 0,
  "metadata": {
    "colab": {
      "private_outputs": true,
      "provenance": []
    },
    "kernelspec": {
      "name": "python3",
      "display_name": "Python 3"
    },
    "language_info": {
      "name": "python"
    }
  },
  "cells": [
    {
      "cell_type": "markdown",
      "source": [
        "Linear Regression: y = mx + c\n",
        "1. y  = dep.\n",
        "\n",
        "2. x = indep.\n",
        "\n",
        "3. c = constant/ bias"
      ],
      "metadata": {
        "id": "WngHOAsk2Njn"
      }
    },
    {
      "cell_type": "code",
      "source": [
        "a = [1, 2, 3, 4]\n",
        "type(a)\n",
        "tensor_1d = tf.constant([1, 2, 3, 4])\n",
        "type(tensor_1d)"
      ],
      "metadata": {
        "id": "PzgvC7sh2hxY"
      },
      "execution_count": null,
      "outputs": []
    },
    {
      "cell_type": "code",
      "execution_count": null,
      "metadata": {
        "id": "kT_PcNYu174D"
      },
      "outputs": [],
      "source": [
        "import tensorflow as tf\n",
        "\n",
        "# Creating a 1-D tensor (a vector)\n",
        "tensor_1d = tf.constant([1, 2, 3, 4])\n",
        "\n",
        "# Creating a 2-D tensor (a matrix)\n",
        "tensor_2d = tf.constant([[1, 2, 3],\n",
        "                         [4, 5, 6]])\n",
        "\n",
        "# Print the tensors\n",
        "print(tensor_1d)\n",
        "print(tensor_2d)"
      ]
    },
    {
      "cell_type": "code",
      "source": [
        "# Addition\n",
        "tensor_add = tf.add(tensor_1d, 5)\n",
        "\n",
        "# Element-wise multiplication\n",
        "tensor_mul = tf.multiply(tensor_1d, tensor_1d)\n",
        "\n",
        "# Matrix multiplication\n",
        "result = tf.matmul(tensor_2d, [[1], [2], [3]])\n",
        "\n",
        "# Print the results\n",
        "print(tensor_add)\n",
        "print(tensor_mul)\n",
        "print(result)"
      ],
      "metadata": {
        "id": "uCfswBaG2FyY"
      },
      "execution_count": null,
      "outputs": []
    },
    {
      "cell_type": "code",
      "source": [
        "# Creating a variable\n",
        "var = tf.Variable([0.0, 0.0, 0.0, 0.0]) # Weight Inti\n",
        "\n",
        "# Creating a constant\n",
        "const = tf.constant([1.0, 1.0, 1.0, 1.0])\n",
        "\n",
        "# Updating the value of the variable\n",
        "var.assign_add(const)\n",
        "\n",
        "# Print the variable and constant\n",
        "print(var)\n",
        "print(const)"
      ],
      "metadata": {
        "id": "LGXrb2nM4Gqw"
      },
      "execution_count": null,
      "outputs": []
    },
    {
      "cell_type": "markdown",
      "source": [
        "Linear Regression: y = mx + c\n",
        "1. y  = dep.\n",
        "\n",
        "2. x = indep.\n",
        "\n",
        "3. c = constant/ bias\n",
        "\n",
        "M = (y - c)/x\n",
        "M = y/x\n",
        "\n",
        "\n",
        "y = c"
      ],
      "metadata": {
        "id": "Yx0l1su34cRH"
      }
    },
    {
      "cell_type": "code",
      "source": [
        "x = tf.constant([1.0, 2.0, 3.0, 4.0])\n",
        "y = tf.constant([2.0, 4.0, 6.0, 8.0])\n",
        "\n",
        "\n",
        "m = tf.Variable([0.0]) # Weight =  m\n",
        "c = tf.Variable([0.0]) # Bias = c\n",
        "\n",
        "\n",
        "\n",
        "def linear_regression(input_data_x):\n",
        "    return m*input_data_x + c\n",
        "\n",
        "# 1. RMSE\n",
        "# 2. MSE\n",
        "# 3. SSE\n",
        "# 4. R2\n",
        "\n",
        "learning_rate = 0.01\n",
        "\n",
        "def loss_function(y, y_predictions):\n",
        "    return tf.reduce_mean(tf.square(y- y_predictions))\n",
        "\n",
        "def train(x, y, learning_rate):\n",
        "    with tf.GradientTape() as tape:\n",
        "        y_predictons = linear_regression(x)\n",
        "        loss_value = loss_function(y, y_predictons)\n",
        "\n",
        "    gradients = tape.gradient(loss_value, [m , c])\n",
        "\n",
        "    m.assign_sub(learning_rate * gradients[0])\n",
        "    c.assign_sub(learning_rate * gradients[1])\n",
        "\n",
        "for i in range(10):\n",
        "    train(x, y, learning_rate)\n",
        "\n",
        "print(\"Weights Value: \", m.numpy())\n",
        "print(\"\\nBias Value: \", c.numpy())"
      ],
      "metadata": {
        "id": "RfxOu-MW4cwg"
      },
      "execution_count": null,
      "outputs": []
    },
    {
      "cell_type": "code",
      "source": [
        "x = tf.constant([1.0, 2.0, 3.0, 4.0])\n",
        "y = tf.constant([2.0, 4.0, 6.0, 8.0])\n",
        "\n",
        "\n",
        "m = tf.Variable([0.0]) # Weight =  m\n",
        "c = tf.Variable([0.0]) # Bias = c\n",
        "\n",
        "def linear_regression(input_data_x):\n",
        "    return m*input_data_x + c\n",
        "\n",
        "# 1. RMSE\n",
        "# 2. MSE\n",
        "# 3. SSE\n",
        "# 4. R2\n",
        "\n",
        "learning_rate = 0.01\n",
        "\n",
        "def loss_function(y, y_predictions):\n",
        "    return tf.reduce_mean(tf.square(y- y_predictions))\n",
        "\n",
        "def train(x, y, learning_rate):\n",
        "    with tf.GradientTape() as tape:\n",
        "        y_predictons = linear_regression(x)\n",
        "        loss_value = loss_function(y, y_predictons)\n",
        "\n",
        "    gradients = tape.gradient(loss_value, [m , c])\n",
        "\n",
        "    m.assign_sub(learning_rate * gradients[0])\n",
        "    c.assign_sub(learning_rate * gradients[1])\n",
        "\n",
        "for i in range(100):\n",
        "    train(x, y, learning_rate)\n",
        "\n",
        "print(\"Weights Value: \", m.numpy())\n",
        "print(\"\\nBias Value: \", c.numpy())"
      ],
      "metadata": {
        "id": "BoiOcN--89Sp"
      },
      "execution_count": null,
      "outputs": []
    },
    {
      "cell_type": "code",
      "source": [
        "x = tf.constant([1.0, 2.0, 3.0, 4.0])\n",
        "y = tf.constant([2.0, 4.0, 6.0, 8.0])\n",
        "\n",
        "\n",
        "m = tf.Variable([0.0]) # Weight =  m\n",
        "c = tf.Variable([0.0]) # Bias = c\n",
        "\n",
        "\n",
        "\n",
        "def linear_regression(input_data_x):\n",
        "    return m*input_data_x + c\n",
        "\n",
        "# 1. RMSE\n",
        "# 2. MSE\n",
        "# 3. SSE\n",
        "# 4. R2\n",
        "\n",
        "learning_rate = 0.01\n",
        "\n",
        "def loss_function(y, y_predictions):\n",
        "    return tf.reduce_mean(tf.square(y- y_predictions))\n",
        "\n",
        "def train(x, y, learning_rate):\n",
        "    with tf.GradientTape() as tape:\n",
        "        y_predictons = linear_regression(x)\n",
        "        loss_value = loss_function(y, y_predictons)\n",
        "\n",
        "    gradients = tape.gradient(loss_value, [m , c])\n",
        "\n",
        "    m.assign_sub(learning_rate * gradients[0])\n",
        "    c.assign_sub(learning_rate * gradients[1])\n",
        "\n",
        "for i in range(1000):\n",
        "    train(x, y, learning_rate)\n",
        "\n",
        "print(\"Weights Value: \", m.numpy())\n",
        "print(\"\\nBias Value: \", c.numpy())"
      ],
      "metadata": {
        "id": "rNc1_e-y9Apl"
      },
      "execution_count": null,
      "outputs": []
    },
    {
      "cell_type": "code",
      "source": [
        "x = tf.constant([1.0, 2.0, 3.0, 4.0])\n",
        "y = tf.constant([2.0, 4.0, 6.0, 8.0])\n",
        "\n",
        "\n",
        "m = tf.Variable([0.0]) # Weight =  m\n",
        "c = tf.Variable([0.0]) # Bias = c\n",
        "\n",
        "\n",
        "\n",
        "def linear_regression(input_data_x):\n",
        "    return m*input_data_x + c\n",
        "\n",
        "# 1. RMSE\n",
        "# 2. MSE\n",
        "# 3. SSE\n",
        "# 4. R2\n",
        "\n",
        "learning_rate = 0.01\n",
        "\n",
        "def loss_function(y, y_predictions):\n",
        "    return tf.reduce_mean(tf.square(y- y_predictions))\n",
        "\n",
        "def train(x, y, learning_rate):\n",
        "    with tf.GradientTape() as tape:\n",
        "        y_predictons = linear_regression(x)\n",
        "        loss_value = loss_function(y, y_predictons)\n",
        "\n",
        "    gradients = tape.gradient(loss_value, [m , c])\n",
        "\n",
        "    m.assign_sub(learning_rate * gradients[0])\n",
        "    c.assign_sub(learning_rate * gradients[1])\n",
        "\n",
        "for i in range(10000):\n",
        "    train(x, y, learning_rate)\n",
        "\n",
        "print(\"Weights Value: \", m.numpy())\n",
        "print(\"\\nBias Value: \", c.numpy())"
      ],
      "metadata": {
        "id": "DaiSHuya9Ff0"
      },
      "execution_count": null,
      "outputs": []
    },
    {
      "cell_type": "code",
      "source": [],
      "metadata": {
        "id": "47jZ_U3m9Qfp"
      },
      "execution_count": null,
      "outputs": []
    }
  ]
}